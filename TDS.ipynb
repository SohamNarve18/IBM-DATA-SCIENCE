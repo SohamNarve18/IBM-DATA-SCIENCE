{
 "cells": [
  {
   "cell_type": "markdown",
   "id": "b55185cc-4ed9-4a88-b4e8-bd3d575023ed",
   "metadata": {},
   "source": [
    "## TOOLS FOR DATA SCIENCE"
   ]
  },
  {
   "cell_type": "markdown",
   "id": "d4fddece-b16f-4456-94a9-93a2ed9ece8d",
   "metadata": {},
   "source": [
    "### INTRODUCTION"
   ]
  },
  {
   "cell_type": "markdown",
   "id": "95bb3236-5c08-4c1f-973e-42935e990b5b",
   "metadata": {},
   "source": [
    "I am Soham Narvekar a graduate student a the University of Illinois, Urbana Champaign"
   ]
  },
  {
   "cell_type": "markdown",
   "id": "c8f5f8f3-d1d7-4635-b473-85c759bbbb6d",
   "metadata": {},
   "source": [
    "### DATA SCIENCE LANGUAGES "
   ]
  },
  {
   "cell_type": "markdown",
   "id": "ff54e23e-1dc4-487a-bda8-ae8b262f9b3c",
   "metadata": {},
   "source": [
    "Python \\\n",
    "R \\\n",
    "SQL \n"
   ]
  },
  {
   "cell_type": "markdown",
   "id": "9d258cf0-cda1-43b6-ba58-9b4ddd06550a",
   "metadata": {},
   "source": [
    "### Data Science Libraries"
   ]
  },
  {
   "cell_type": "markdown",
   "id": "dcef4c42-25c7-4e0d-9694-0ee5f45dd0b8",
   "metadata": {},
   "source": [
    "Sci-py\\\n",
    "pandas\\\n",
    "matplotlib\\\n",
    "numpy\\\n",
    "Imblear\\\n",
    "Scikit-learn"
   ]
  },
  {
   "cell_type": "markdown",
   "id": "38b2db19-8bf5-48bf-a694-695cf7d294e0",
   "metadata": {},
   "source": [
    "## Data Science Tools"
   ]
  },
  {
   "cell_type": "markdown",
   "id": "e36e5947-b5e9-4ace-bdc9-d116f8095bed",
   "metadata": {},
   "source": [
    "Jupyter Notebook \\\n",
    "Visual Studio Code\\\n",
    "R Studio\n"
   ]
  },
  {
   "cell_type": "code",
   "execution_count": 4,
   "id": "96963302-dd56-4397-8eda-d92954bf8c83",
   "metadata": {},
   "outputs": [],
   "source": [
    "### ADD 2 Number\n",
    "def add(a,b):\n",
    "    sum = a+b\n",
    "    return sum "
   ]
  },
  {
   "cell_type": "code",
   "execution_count": null,
   "id": "56402f25-321b-48c1-a569-7021e4c898c3",
   "metadata": {},
   "outputs": [],
   "source": [
    "## Multiply two numbers\n",
    "def multiply(a,b):\n",
    "    multiply: a*b\n",
    "    return multiply "
   ]
  },
  {
   "cell_type": "code",
   "execution_count": null,
   "id": "44735e36-6385-4e74-be74-614c24910db0",
   "metadata": {},
   "outputs": [],
   "source": [
    "## Minutes to Hours\n",
    "def min2hr(a):\n",
    "    hrs = a/60\n",
    "    return hrs"
   ]
  },
  {
   "cell_type": "markdown",
   "id": "e8c05bde-9184-46b9-8048-7b988fa5a0cf",
   "metadata": {},
   "source": [
    "## AUTHOR - SOHAM NARVEKAR "
   ]
  },
  {
   "cell_type": "code",
   "execution_count": null,
   "id": "5a127bee-d220-443d-8641-6d7c9e36df91",
   "metadata": {},
   "outputs": [],
   "source": []
  },
  {
   "cell_type": "code",
   "execution_count": null,
   "id": "18c2ba35-8ed9-46e0-a019-ff414bada8cd",
   "metadata": {},
   "outputs": [],
   "source": []
  }
 ],
 "metadata": {
  "kernelspec": {
   "display_name": "Python 3 (ipykernel)",
   "language": "python",
   "name": "python3"
  },
  "language_info": {
   "codemirror_mode": {
    "name": "ipython",
    "version": 3
   },
   "file_extension": ".py",
   "mimetype": "text/x-python",
   "name": "python",
   "nbconvert_exporter": "python",
   "pygments_lexer": "ipython3",
   "version": "3.11.1"
  }
 },
 "nbformat": 4,
 "nbformat_minor": 5
}
